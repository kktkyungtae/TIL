{
 "cells": [
  {
   "cell_type": "markdown",
   "metadata": {},
   "source": [
    "## 1. Copy 문제(3)"
   ]
  },
  {
   "cell_type": "code",
   "execution_count": 5,
   "metadata": {},
   "outputs": [],
   "source": [
    "# copy 문제\n",
    "\n",
    "import copy\n",
    "list1 = [3,'a', 'b']\n",
    "list2 = [1,2,list1]\n",
    "\n",
    "list3 = list1[:]\n",
    "list4 = copy.copy(list2)\n",
    "list5 = copy.deepcopy(list2)"
   ]
  },
  {
   "cell_type": "markdown",
   "metadata": {},
   "source": [
    "틀린 것을 고르시오.\n",
    "1. list1 == list3의 결과는 True 이다.\n",
    "2. 'list4[2][0] =4'라는 코드 입력 후, 'print(list2[2][0])'의 출력은 4이다.\n",
    "   2-1) 'print(list1[0] = ? :: 4!\n",
    "3. 'list4[2] = 5'입력 후 'print(list2[2])' 의 출력 값은 5이다.  (거짓!!!!)\n",
    "4. 'list5[2][1]=3' 입력 후 'print(list2[2][1])의 결과값은 'a'이다. # 리스트5를 바꿔도 리스트 2랑은 관계가 없다! 왜냐면 l5는 새로 복사한거라서"
   ]
  },
  {
   "cell_type": "code",
   "execution_count": null,
   "metadata": {},
   "outputs": [],
   "source": [
    "# copy 문제 설명\n",
    "\n",
    "import copy\n",
    "list1 = [3,'a', 'b']\n",
    "list2 = [1,2,list1]\n",
    "\n",
    "list_noncopy = list1 # 리스트를 새로 만드는 것이 아니라, 가리키는 것!\n",
    "list_nocopy[0] = 2 # 가리키는 것이니까 list1 이 바뀐다\n",
    "\n",
    "list3 = list1[:] # 얘는 안바뀐다! 왜냐면 가리키는 것이 아니라 복사해서 나왔으니\n",
    "list3[0] = 3\n",
    "\n",
    "list4 = copy.copy(list2)\n",
    "list5 = copy.deepcopy(list2) # deepcopy는 새로운 list2를 만들어서 가리킨다"
   ]
  },
  {
   "cell_type": "markdown",
   "metadata": {},
   "source": [
    "## 2. Class Person (3)\n",
    "보기의 코드 작성 후, 인스턴스 만드려고 한다. 옮은것은?\n",
    "1. p1 = Person(p1,'hong', 100)\n",
    "2. p2 = Person('kim')\n",
    "3. p3 = Persom(age = 3, name = 'kang') \n",
    "4. p4 = Person()"
   ]
  },
  {
   "cell_type": "code",
   "execution_count": null,
   "metadata": {},
   "outputs": [],
   "source": [
    "class Person:\n",
    "    def __init__(self,name,age) #self는 자기 자신을 불러오는 거라서 빈칸으로!"
   ]
  },
  {
   "cell_type": "markdown",
   "metadata": {},
   "source": [
    "## 3. 딕셔너리 update 문제 (4)\n",
    "보기를 실행했을때 옳은 것을 고르시오.\n",
    "\n",
    "1. len(a1) 은 2다.   == False\n",
    "2. a1과 a2는 같은 딕셔너리를 가리키고 있다. == False\n",
    "3. 에러가 발생한다. == False\n",
    "4. 보기중에 답 없다. "
   ]
  },
  {
   "cell_type": "code",
   "execution_count": 12,
   "metadata": {},
   "outputs": [
    {
     "data": {
      "text/plain": [
       "1667146896"
      ]
     },
     "execution_count": 12,
     "metadata": {},
     "output_type": "execute_result"
    }
   ],
   "source": [
    "d = {'a':1, 'b':2}\n",
    "a1 = d.update(c=3) # 3을 키로 넣고, 3은 밸류로 넣는다 # 업데이트는 원래 딕셔너리를 받거나 (c=3) 요렇게 이상한 형식으로 쓴다. \n",
    "                     # 그래서 틀린 것은 아니다.\n",
    "                       # 핵 함정은... a1 은 none이 들어가 있다! 업데이트 부르면 결과는 none 이다. 벗 d는 업데이트 되어 있다.\n",
    "a2 = a1"
   ]
  },
  {
   "cell_type": "code",
   "execution_count": null,
   "metadata": {},
   "outputs": [],
   "source": [
    "d = {'a':1, 'b':2}\n",
    "d.update(c=3) # 3을 키로 넣고, 3은 밸류로 넣는다 # 업데이트는 원래 딕셔너리를 받거나 (c=3) 요렇게 이상한 형식으로 쓴다. \n",
    "a1 = d                    # a1 이 none 아니라 업데이트 된 d 를 넣으려면 이렇게 해야된다. \n",
    "a2 = a1"
   ]
  },
  {
   "cell_type": "code",
   "execution_count": null,
   "metadata": {},
   "outputs": [],
   "source": [
    "=============================================================================================================================="
   ]
  },
  {
   "cell_type": "code",
   "execution_count": 14,
   "metadata": {},
   "outputs": [
    {
     "name": "stdout",
     "output_type": "stream",
     "text": [
      "[[0, 0, 0, 0, 0]]\n"
     ]
    }
   ],
   "source": [
    "l = []; l.append([0]*5)\n",
    "print(l)"
   ]
  },
  {
   "cell_type": "code",
   "execution_count": 20,
   "metadata": {},
   "outputs": [
    {
     "name": "stdout",
     "output_type": "stream",
     "text": [
      " hello my name is ssafy\n",
      " hello my name is ssafy\n"
     ]
    }
   ],
   "source": [
    "s = \" hello my name is ssafy\"\n",
    "for i in s:\n",
    "    if i == \"m\":\n",
    "        print(s)"
   ]
  },
  {
   "cell_type": "code",
   "execution_count": 21,
   "metadata": {},
   "outputs": [
    {
     "name": "stdout",
     "output_type": "stream",
     "text": [
      "80\n"
     ]
    }
   ],
   "source": [
    "##\n",
    "\n",
    "def func(a, b=1,c=2, *args, **kwargs):\n",
    "    d = sum([n*2 for n in args if n > 2])\n",
    "    e = sum([v*v for k, v in kwargs.items()])\n",
    "    return a+b+c+d+e\n",
    "\n",
    "print(func(9,4,2,3,1,7,d=3,e=6))"
   ]
  },
  {
   "cell_type": "code",
   "execution_count": 22,
   "metadata": {},
   "outputs": [
    {
     "name": "stdout",
     "output_type": "stream",
     "text": [
      "5\n"
     ]
    }
   ],
   "source": [
    "##\n",
    "\n",
    "def fib(n):\n",
    "    if n == 0 or n ==1:\n",
    "        return 1\n",
    "    else:\n",
    "        return fib(n-1) + fib(n-2)\n",
    "    \n",
    "print(fib(4))"
   ]
  },
  {
   "cell_type": "markdown",
   "metadata": {},
   "source": [
    "### 4. "
   ]
  },
  {
   "cell_type": "code",
   "execution_count": 23,
   "metadata": {},
   "outputs": [
    {
     "name": "stdout",
     "output_type": "stream",
     "text": [
      "11\n"
     ]
    }
   ],
   "source": [
    "## 모르겠다아아\n",
    "\n",
    "a = 1\n",
    "def my_f1():\n",
    "    a=5\n",
    "    my_f2()\n",
    "    \n",
    "def my_f2():\n",
    "    print(a,end='')\n",
    "    \n",
    "my_f1() # 실행하고 \n",
    "print(a) # 위에 있는 f1은 조회가 불가능하다.."
   ]
  },
  {
   "cell_type": "code",
   "execution_count": 24,
   "metadata": {},
   "outputs": [
    {
     "name": "stdout",
     "output_type": "stream",
     "text": [
      "hong\n"
     ]
    }
   ],
   "source": [
    "name = 'hong'\n",
    "class Person:\n",
    "    name = 'choi'\n",
    "    def greeting(self):\n",
    "        print(name)\n",
    "        \n",
    "p1 = Person()\n",
    "p1.name = 'kim'\n",
    "p1.greeting()"
   ]
  },
  {
   "cell_type": "code",
   "execution_count": 25,
   "metadata": {},
   "outputs": [
    {
     "name": "stdout",
     "output_type": "stream",
     "text": [
      "kim\n"
     ]
    }
   ],
   "source": [
    "name = 'hong'\n",
    "class Person:\n",
    "    name = 'choi'\n",
    "    def greeting(self):\n",
    "        print(self.name)\n",
    "        \n",
    "p1 = Person()\n",
    "p1.name = 'kim'\n",
    "p1.greeting()"
   ]
  },
  {
   "cell_type": "code",
   "execution_count": null,
   "metadata": {},
   "outputs": [],
   "source": [
    "my_complex =  3+4j\n",
    "my_list = [1,2,3]\n",
    "my_dict = {1:1,2:2}\n",
    "\n",
    "#메소드가 아닙니다."
   ]
  },
  {
   "cell_type": "code",
   "execution_count": 28,
   "metadata": {},
   "outputs": [
    {
     "data": {
      "text/plain": [
       "True"
      ]
     },
     "execution_count": 28,
     "metadata": {},
     "output_type": "execute_result"
    }
   ],
   "source": [
    "#int인지 확인하기\n",
    "\n",
    "my_int = 3\n",
    "\n",
    "#isinstance(int,my_int)\n",
    "type(my_int) == int"
   ]
  }
 ],
 "metadata": {
  "kernelspec": {
   "display_name": "Python 3",
   "language": "python",
   "name": "python3"
  },
  "language_info": {
   "codemirror_mode": {
    "name": "ipython",
    "version": 3
   },
   "file_extension": ".py",
   "mimetype": "text/x-python",
   "name": "python",
   "nbconvert_exporter": "python",
   "pygments_lexer": "ipython3",
   "version": "3.6.7"
  }
 },
 "nbformat": 4,
 "nbformat_minor": 2
}
