{
 "cells": [
  {
   "cell_type": "markdown",
   "metadata": {},
   "source": [
    "## Intro&Control_of_flow-문제3\n"
   ]
  },
  {
   "cell_type": "markdown",
   "metadata": {},
   "source": [
    "### 문제1\n",
    "\n",
    ">다음 소스 코드를 완성하여 1부터 100까지의 숫자를 출력하면서 2의 배수일 때는 'Fizz', 11의 배수일 때는 'Buzz', 2와 11의 공배수일 때는 'FizzBuzz'가 출력되게 만드세요."
   ]
  },
  {
   "cell_type": "code",
   "execution_count": 9,
   "metadata": {},
   "outputs": [
    {
     "name": "stdout",
     "output_type": "stream",
     "text": [
      "1\n",
      "1\n",
      "2\n",
      "Fizz\n",
      "3\n",
      "3\n",
      "4\n",
      "Fizz\n",
      "5\n",
      "5\n",
      "6\n",
      "Fizz\n",
      "7\n",
      "7\n",
      "8\n",
      "Fizz\n",
      "9\n",
      "9\n",
      "10\n",
      "Fizz\n",
      "11\n",
      "Buzz\n",
      "12\n",
      "Fizz\n",
      "13\n",
      "13\n",
      "14\n",
      "Fizz\n",
      "15\n",
      "15\n",
      "16\n",
      "Fizz\n",
      "17\n",
      "17\n",
      "18\n",
      "Fizz\n",
      "19\n",
      "19\n",
      "20\n",
      "Fizz\n",
      "21\n",
      "21\n",
      "22\n",
      "FizzBuzz\n",
      "23\n",
      "23\n",
      "24\n",
      "Fizz\n",
      "25\n",
      "25\n",
      "26\n",
      "Fizz\n",
      "27\n",
      "27\n",
      "28\n",
      "Fizz\n",
      "29\n",
      "29\n",
      "30\n",
      "Fizz\n",
      "31\n",
      "31\n",
      "32\n",
      "Fizz\n",
      "33\n",
      "Buzz\n",
      "34\n",
      "Fizz\n",
      "35\n",
      "35\n",
      "36\n",
      "Fizz\n",
      "37\n",
      "37\n",
      "38\n",
      "Fizz\n",
      "39\n",
      "39\n",
      "40\n",
      "Fizz\n",
      "41\n",
      "41\n",
      "42\n",
      "Fizz\n",
      "43\n",
      "43\n",
      "44\n",
      "FizzBuzz\n",
      "45\n",
      "45\n",
      "46\n",
      "Fizz\n",
      "47\n",
      "47\n",
      "48\n",
      "Fizz\n",
      "49\n",
      "49\n",
      "50\n",
      "Fizz\n",
      "51\n",
      "51\n",
      "52\n",
      "Fizz\n",
      "53\n",
      "53\n",
      "54\n",
      "Fizz\n",
      "55\n",
      "Buzz\n",
      "56\n",
      "Fizz\n",
      "57\n",
      "57\n",
      "58\n",
      "Fizz\n",
      "59\n",
      "59\n",
      "60\n",
      "Fizz\n",
      "61\n",
      "61\n",
      "62\n",
      "Fizz\n",
      "63\n",
      "63\n",
      "64\n",
      "Fizz\n",
      "65\n",
      "65\n",
      "66\n",
      "FizzBuzz\n",
      "67\n",
      "67\n",
      "68\n",
      "Fizz\n",
      "69\n",
      "69\n",
      "70\n",
      "Fizz\n",
      "71\n",
      "71\n",
      "72\n",
      "Fizz\n",
      "73\n",
      "73\n",
      "74\n",
      "Fizz\n",
      "75\n",
      "75\n",
      "76\n",
      "Fizz\n",
      "77\n",
      "Buzz\n",
      "78\n",
      "Fizz\n",
      "79\n",
      "79\n",
      "80\n",
      "Fizz\n",
      "81\n",
      "81\n",
      "82\n",
      "Fizz\n",
      "83\n",
      "83\n",
      "84\n",
      "Fizz\n",
      "85\n",
      "85\n",
      "86\n",
      "Fizz\n",
      "87\n",
      "87\n",
      "88\n",
      "FizzBuzz\n",
      "89\n",
      "89\n",
      "90\n",
      "Fizz\n",
      "91\n",
      "91\n",
      "92\n",
      "Fizz\n",
      "93\n",
      "93\n",
      "94\n",
      "Fizz\n",
      "95\n",
      "95\n",
      "96\n",
      "Fizz\n",
      "97\n",
      "97\n",
      "98\n",
      "Fizz\n",
      "99\n",
      "Buzz\n",
      "100\n",
      "Fizz\n"
     ]
    }
   ],
   "source": [
    "#여기에 코드를 작성하세요.\n",
    "for a in range(1,101):\n",
    "    print(a)\n",
    "    if a%2==0 and a%11==0: #순서가 틀렸었다! 얘가 먼저 왔어야되\n",
    "        print('FizzBuzz') \n",
    "    elif a%11==0:\n",
    "        print('Buzz')\n",
    "    elif a%2 == 0:\n",
    "        print('Fizz')\n",
    "    else:\n",
    "        print(a)"
   ]
  },
  {
   "cell_type": "code",
   "execution_count": null,
   "metadata": {},
   "outputs": [],
   "source": []
  },
  {
   "cell_type": "markdown",
   "metadata": {},
   "source": [
    "### 문제2\n",
    "\n",
    ">사용자로부터 세 개의 숫자를 입력 받은 후 가장 큰 숫자를 출력하세요."
   ]
  },
  {
   "cell_type": "code",
   "execution_count": 12,
   "metadata": {
    "scrolled": false
   },
   "outputs": [
    {
     "name": "stdout",
     "output_type": "stream",
     "text": [
      "숫자1을 입력하세요 : 45\n",
      "숫자2을 입력하세요 : 7\n",
      "숫자3을 입력하세요 : 55\n",
      "45\n"
     ]
    }
   ],
   "source": [
    "#여기에 코드를 작성하세요.\n",
    "three_1 = int(input(\"숫자1을 입력하세요 : \"))\n",
    "three_2 = int(input(\"숫자2을 입력하세요 : \"))\n",
    "three_3 = int(input(\"숫자3을 입력하세요 : \"))\n",
    "\n",
    "a = ['three_1','three_2','three_3']\n",
    "for b in a:\n",
    "    if three_1 >= three_2:\n",
    "        print(three_1)\n",
    "    else:\n",
    "        print(three_2)\n",
    "    break"
   ]
  },
  {
   "cell_type": "code",
   "execution_count": 13,
   "metadata": {},
   "outputs": [
    {
     "name": "stdout",
     "output_type": "stream",
     "text": [
      "숫자1을 입력하세요 : 84\n",
      "숫자2을 입력하세요 : 51\n",
      "숫자3을 입력하세요 : 95\n",
      "95\n"
     ]
    }
   ],
   "source": [
    "three_1 = int(input(\"숫자1을 입력하세요 : \"))\n",
    "three_2 = int(input(\"숫자2을 입력하세요 : \"))\n",
    "three_3 = int(input(\"숫자3을 입력하세요 : \"))\n",
    "\n",
    "if three_1 > three_2:\n",
    "    max_num = three_1 #변수를 생성 및 값을 넣어주기\n",
    "else:\n",
    "    max_num = three_2\n",
    "    \n",
    "if three_3 > max_num:\n",
    "    max_num = three_3\n",
    "    \n",
    "print(max_num)"
   ]
  },
  {
   "cell_type": "markdown",
   "metadata": {},
   "source": [
    "### 문제3\n",
    "\n",
    "> 다음은 학생들의 혈액형(A, B, AB, O)에 대한 데이터입니다. 각 혈액형 별 학생수의 합계를 구하세요."
   ]
  },
  {
   "cell_type": "code",
   "execution_count": null,
   "metadata": {},
   "outputs": [],
   "source": [
    "blood_types = ['A', 'B', 'A', 'O', 'AB', 'AB', 'O', 'A', 'B', 'O', 'B', 'AB']"
   ]
  },
  {
   "cell_type": "code",
   "execution_count": 18,
   "metadata": {},
   "outputs": [
    {
     "name": "stdout",
     "output_type": "stream",
     "text": [
      "3\n",
      "3\n",
      "3\n",
      "3\n"
     ]
    }
   ],
   "source": [
    "#여기에 코드를 작성하세요.\n",
    "\n",
    "blood_types = ['A', 'B', 'A', 'O', 'AB', 'AB', 'O', 'A', 'B', 'O', 'B', 'AB']\n",
    "\n",
    "a = blood_types.count('A')\n",
    "b = blood_types.count('B')\n",
    "o = blood_types.count('O')\n",
    "ab = blood_types.count('AB')\n",
    "\n",
    "print(a)\n",
    "print(b)\n",
    "print(o)\n",
    "print(ab)"
   ]
  },
  {
   "cell_type": "code",
   "execution_count": 20,
   "metadata": {},
   "outputs": [
    {
     "name": "stdout",
     "output_type": "stream",
     "text": [
      "{1: 1}\n",
      "{1: 2}\n"
     ]
    }
   ],
   "source": [
    "a ={}\n",
    "a[1] = 1 #키 값1, 밸류 1인  # 키는 변하면 안되지만 밸류는 변할 수 있다.\n",
    "print(a)\n",
    "a[1] += 1\n",
    "print(a)"
   ]
  },
  {
   "cell_type": "code",
   "execution_count": 30,
   "metadata": {},
   "outputs": [
    {
     "name": "stdout",
     "output_type": "stream",
     "text": [
      "{'A': 3, 'B': 3, 'O': 3, 'AB': 3}\n"
     ]
    }
   ],
   "source": [
    "blood_types = ['A', 'B', 'A', 'O', 'AB', 'AB', 'O', 'A', 'B', 'O', 'B', 'AB']\n",
    "result = {}\n",
    "\n",
    "for blood_type in blood_types:\n",
    "    if blood_type in result:\n",
    "        result[blood_type] += 1\n",
    "    else:\n",
    "        result[blood_type] = 1\n",
    "print(result)"
   ]
  },
  {
   "cell_type": "markdown",
   "metadata": {},
   "source": [
    "### 문제4\n",
    "\n",
    ">다음 리스트의 요소값 중에서 중복되는 값만 뽑아서 새로운 리스트로 옮기고 요소의 개수를 출력하세요. \n",
    "\n",
    ">some_lists = ['a', 'b', 'c', 'b', 'd', 'm', 'n', 'n']"
   ]
  },
  {
   "cell_type": "code",
   "execution_count": 29,
   "metadata": {},
   "outputs": [
    {
     "ename": "SyntaxError",
     "evalue": "invalid syntax (<ipython-input-29-b067fc339fd9>, line 5)",
     "output_type": "error",
     "traceback": [
      "\u001b[1;36m  File \u001b[1;32m\"<ipython-input-29-b067fc339fd9>\"\u001b[1;36m, line \u001b[1;32m5\u001b[0m\n\u001b[1;33m    if some_list not lists:\u001b[0m\n\u001b[1;37m                         ^\u001b[0m\n\u001b[1;31mSyntaxError\u001b[0m\u001b[1;31m:\u001b[0m invalid syntax\n"
     ]
    }
   ],
   "source": [
    "some_lists = ['a', 'b', 'c', 'b', 'd', 'm', 'n', 'n']\n",
    "lists = []\n",
    "\n",
    "for some_list in some_lists: #섬리스츠에 있는 요소들을 받아와서 본다!\n",
    "    if some_list not lists:\n",
    "        lists.append(some_list)\n",
    "\n",
    "print(len(lists))\n",
    "    "
   ]
  },
  {
   "cell_type": "markdown",
   "metadata": {},
   "source": [
    "### 문제5\n",
    "\n",
    ">표준 입력으로 국어, 영어, 수학, 과학 점수가 입력됩니다. 네 과목의 평균 점수가 80점 이상일 때 합격이라고 정했습니다. 평균 점수에 따라 '합격', '불합격'을 출력하는 프로그램을 만드세요. \n",
    "단, 점수는 0점부터 100점까지만 입력받을 수 있으며 범위를 벗어났다면 '잘못된 점수'를 출력하고 합격, 불합격 여부는 출력하지 않아야 합니다. "
   ]
  },
  {
   "cell_type": "code",
   "execution_count": 32,
   "metadata": {
    "scrolled": true
   },
   "outputs": [
    {
     "name": "stdout",
     "output_type": "stream",
     "text": [
      "90\n"
     ]
    },
    {
     "ename": "NameError",
     "evalue": "name 'scores' is not defined",
     "output_type": "error",
     "traceback": [
      "\u001b[1;31m---------------------------------------------------------------------------\u001b[0m",
      "\u001b[1;31mNameError\u001b[0m                                 Traceback (most recent call last)",
      "\u001b[1;32m<ipython-input-32-f43d00e1f588>\u001b[0m in \u001b[0;36m<module>\u001b[1;34m\u001b[0m\n\u001b[0;32m      1\u001b[0m \u001b[1;31m#여기에 코드를 작성하세요.\u001b[0m\u001b[1;33m\u001b[0m\u001b[1;33m\u001b[0m\u001b[1;33m\u001b[0m\u001b[0m\n\u001b[0;32m      2\u001b[0m \u001b[0mscore\u001b[0m \u001b[1;33m=\u001b[0m \u001b[0minput\u001b[0m\u001b[1;33m(\u001b[0m\u001b[1;33m)\u001b[0m\u001b[1;33m.\u001b[0m\u001b[0msplit\u001b[0m\u001b[1;33m(\u001b[0m\u001b[1;33m)\u001b[0m\u001b[1;33m\u001b[0m\u001b[1;33m\u001b[0m\u001b[0m\n\u001b[1;32m----> 3\u001b[1;33m \u001b[0maverage\u001b[0m \u001b[1;33m=\u001b[0m \u001b[1;33m(\u001b[0m\u001b[0mint\u001b[0m\u001b[1;33m(\u001b[0m\u001b[0mscores\u001b[0m\u001b[1;33m[\u001b[0m\u001b[1;36m0\u001b[0m\u001b[1;33m]\u001b[0m\u001b[1;33m)\u001b[0m \u001b[1;33m+\u001b[0m \u001b[0mint\u001b[0m\u001b[1;33m(\u001b[0m\u001b[0mscores\u001b[0m\u001b[1;33m[\u001b[0m\u001b[1;36m1\u001b[0m\u001b[1;33m]\u001b[0m\u001b[1;33m)\u001b[0m \u001b[1;33m+\u001b[0m \u001b[0mint\u001b[0m\u001b[1;33m(\u001b[0m\u001b[0mscores\u001b[0m\u001b[1;33m[\u001b[0m\u001b[1;36m2\u001b[0m\u001b[1;33m]\u001b[0m\u001b[1;33m)\u001b[0m \u001b[1;33m+\u001b[0m \u001b[0mint\u001b[0m\u001b[1;33m(\u001b[0m\u001b[0mscores\u001b[0m\u001b[1;33m[\u001b[0m\u001b[1;36m3\u001b[0m\u001b[1;33m]\u001b[0m\u001b[1;33m)\u001b[0m\u001b[1;33m)\u001b[0m \u001b[1;33m/\u001b[0m \u001b[1;36m4\u001b[0m\u001b[1;33m\u001b[0m\u001b[1;33m\u001b[0m\u001b[0m\n\u001b[0m\u001b[0;32m      4\u001b[0m \u001b[1;33m\u001b[0m\u001b[0m\n\u001b[0;32m      5\u001b[0m \u001b[1;32mif\u001b[0m \u001b[1;36m0\u001b[0m \u001b[1;33m<=\u001b[0m \u001b[0mint\u001b[0m\u001b[1;33m(\u001b[0m\u001b[0mscores\u001b[0m\u001b[1;33m[\u001b[0m\u001b[1;36m0\u001b[0m\u001b[1;33m]\u001b[0m\u001b[1;33m)\u001b[0m \u001b[1;33m<=\u001b[0m \u001b[1;36m100\u001b[0m \u001b[1;32mand\u001b[0m \u001b[1;36m0\u001b[0m \u001b[1;33m<=\u001b[0m \u001b[0mint\u001b[0m\u001b[1;33m(\u001b[0m\u001b[0mscores\u001b[0m\u001b[1;33m[\u001b[0m\u001b[1;36m1\u001b[0m\u001b[1;33m]\u001b[0m\u001b[1;33m)\u001b[0m \u001b[1;33m<=\u001b[0m \u001b[1;36m100\u001b[0m \u001b[1;32mand\u001b[0m \u001b[1;36m0\u001b[0m \u001b[1;33m<=\u001b[0m \u001b[0mint\u001b[0m\u001b[1;33m(\u001b[0m\u001b[0mscores\u001b[0m\u001b[1;33m[\u001b[0m\u001b[1;36m2\u001b[0m\u001b[1;33m]\u001b[0m\u001b[1;33m)\u001b[0m \u001b[1;33m<=\u001b[0m \u001b[0mint\u001b[0m\u001b[1;33m(\u001b[0m\u001b[0mscores\u001b[0m\u001b[1;33m[\u001b[0m\u001b[1;36m3\u001b[0m\u001b[1;33m]\u001b[0m\u001b[1;33m)\u001b[0m\u001b[1;33m:\u001b[0m\u001b[1;33m\u001b[0m\u001b[1;33m\u001b[0m\u001b[0m\n",
      "\u001b[1;31mNameError\u001b[0m: name 'scores' is not defined"
     ]
    }
   ],
   "source": [
    "#여기에 코드를 작성하세요.\n",
    "score = input().split()\n",
    "average = (int(scores[0]) + int(scores[1]) + int(scores[2]) + int(scores[3])) / 4\n",
    "\n",
    "if 0 <= int(scores[0]) <= 100 and 0 <= int(scores[1]) <= 100 and 0 <= int(scores[2]) <= int(scores[3]):\n",
    "    if average >= 80:\n",
    "        print(\"합격\")\n",
    "    else:\n",
    "        print(\"불합격\")\n",
    "else:\n",
    "    print(\"잘못된 점수\")\n"
   ]
  },
  {
   "cell_type": "code",
   "execution_count": 37,
   "metadata": {},
   "outputs": [
    {
     "ename": "SyntaxError",
     "evalue": "invalid syntax (<ipython-input-37-816b111c6474>, line 1)",
     "output_type": "error",
     "traceback": [
      "\u001b[1;36m  File \u001b[1;32m\"<ipython-input-37-816b111c6474>\"\u001b[1;36m, line \u001b[1;32m1\u001b[0m\n\u001b[1;33m    kor, eng, math, sci = map(int.input().split())) #map 함수 인자.쪼개서넣기\u001b[0m\n\u001b[1;37m                                                  ^\u001b[0m\n\u001b[1;31mSyntaxError\u001b[0m\u001b[1;31m:\u001b[0m invalid syntax\n"
     ]
    }
   ],
   "source": [
    "kor, eng, math, sci = map(int.input().split())) #map 함수 인자.쪼개서넣기\n",
    "average = (kor + eng + math + sci) / 4\n",
    "\n",
    "if 0 <= kor <= 100 and 0 <= eng <= 100 and 0 <= math <= sci <= 200:\n",
    "    if average >= 80:\n",
    "        print(\"합격\")\n",
    "    else:\n",
    "        print(\"불합격\")\n",
    "else:\n",
    "    print(\"잘못된 점수\")"
   ]
  }
 ],
 "metadata": {
  "kernelspec": {
   "display_name": "Python 3",
   "language": "python",
   "name": "python3"
  },
  "language_info": {
   "codemirror_mode": {
    "name": "ipython",
    "version": 3
   },
   "file_extension": ".py",
   "mimetype": "text/x-python",
   "name": "python",
   "nbconvert_exporter": "python",
   "pygments_lexer": "ipython3",
   "version": "3.6.7"
  }
 },
 "nbformat": 4,
 "nbformat_minor": 2
}
