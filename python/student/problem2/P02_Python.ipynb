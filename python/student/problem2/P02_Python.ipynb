{
 "cells": [
  {
   "cell_type": "markdown",
   "metadata": {},
   "source": [
    "# 모음 제거하기\n",
    "\n",
    "> 다음 문장의 모음을 제거하여 출력하세요.\n",
    "---\n",
    "```\n",
    "예시 입력)\n",
    "\"Life is too short, you need python\"\n",
    "```\n",
    "\n",
    "```\n",
    "예시 출력)\n",
    "Lf s t shrt, y nd pythn\n",
    "```"
   ]
  },
  {
   "cell_type": "code",
   "execution_count": null,
   "metadata": {},
   "outputs": [],
   "source": [
    "a = input(\"입력하시오 :\")\n",
    "# 아래에 코드를 작성하세요\n",
    "def a(text): \n",
    "    wordcontents=list(text) \n",
    "    vowel=['a','e','i','o','u'] \n",
    "    for letter in wordcontents: \n",
    "     if letter in vowel: \n",
    "      wordcontents.remove(letter) \n",
    "    word='' \n",
    "    word=word.join(wordcontents) \n",
    "    return word "
   ]
  },
  {
   "cell_type": "code",
   "execution_count": 4,
   "metadata": {},
   "outputs": [
    {
     "name": "stdout",
     "output_type": "stream",
     "text": [
      "입력하시오 :abcdefghijklmnopqrtu\n",
      "bcdfghjklmnpqrt\n"
     ]
    }
   ],
   "source": [
    "a = input(\"입력하시오 :\")\n",
    "vowel = ['a', 'e', 'i','o','u']\n",
    "answer = ''\n",
    "\n",
    "for i in a:\n",
    "    if i not in vowel:\n",
    "        answer += i\n",
    "print(answer)\n"
   ]
  },
  {
   "cell_type": "markdown",
   "metadata": {},
   "source": [
    "# 영어 이름 출력하기 \n",
    "\n",
    "> 영어 이름은 가운데 이름을 가지고 있는 경우가 있습니다.\n",
    ">\n",
    "> 가운데 이름은 축약해서 나타내는 함수를 작성해보세요.\n",
    "\n",
    "---\n",
    "```\n",
    "예시 입력)\n",
    "Alice Betty Catherine Davis\n",
    "```\n",
    "```\n",
    "예시 출력)\n",
    "Alice B. C. Davis\n",
    "```"
   ]
  },
  {
   "cell_type": "code",
   "execution_count": 8,
   "metadata": {},
   "outputs": [
    {
     "name": "stdout",
     "output_type": "stream",
     "text": [
      "What you're NAME? : Alice Betty Catherine Davis\n",
      "Alice B. C. Davis\n"
     ]
    }
   ],
   "source": [
    "# 아래에 코드를 작성하세요.\n",
    "# 문자열을 쪼개서 입력을 받는 // 미드 네임인지 아닌지 판단해야되기 때문에 // 첫글자만 남기고 지워버리면 되니까\n",
    "\n",
    "name = input(\"What you're NAME? : \")\n",
    "names = name.split() #스플릿 하면 리스트가 생성됨! 각각 4개의 요소를 갖는 1.Alice 2.Betty  3.Catherine 4.Davis\n",
    "\n",
    "for i in range(1,len(names)-1): #처음 것과 마지막 것을 뺴고 보게 해주는 range 값\n",
    "    #print(names[i])\n",
    "    names[i] = names[i][0] + \".\"\n",
    "print(' '.join(names))"
   ]
  },
  {
   "cell_type": "markdown",
   "metadata": {},
   "source": [
    "# 달력 출력하기\n",
    "\n",
    "> 1월 1일 월요일부터 12월 31일까지 달력을 출력하세요.\n",
    "\n",
    "---\n",
    "```\n",
    "예시 출력)\n",
    "         1 월\n",
    "Mo Tu We Th Fr Sa Su \n",
    " 1  2  3  4  5  6  7 \n",
    " 8  9 10 11 12 13 14 \n",
    "15 16 17 18 19 20 21 \n",
    "22 23 24 25 26 27 28 \n",
    "29 30 31 \n",
    "         2 월\n",
    "Mo Tu We Th Fr Sa Su \n",
    " 1  2  3  4  5  6  7 \n",
    " 8  9 10 11 12 13 14 \n",
    "15 16 17 18 19 20 21 \n",
    "22 23 24 25 26 27 28 \n",
    "\n",
    "         3 월\n",
    "Mo Tu We Th Fr Sa Su \n",
    " 1  2  3  4  5  6  7 \n",
    " 8  9 10 11 12 13 14 \n",
    "15 16 17 18 19 20 21 \n",
    "22 23 24 25 26 27 28 \n",
    "29 30 31 \n",
    "         4 월\n",
    "Mo Tu We Th Fr Sa Su \n",
    " 1  2  3  4  5  6  7 \n",
    " 8  9 10 11 12 13 14 \n",
    "15 16 17 18 19 20 21 \n",
    "22 23 24 25 26 27 28 \n",
    "29 30 \n",
    "```"
   ]
  },
  {
   "cell_type": "code",
   "execution_count": null,
   "metadata": {},
   "outputs": [],
   "source": []
  },
  {
   "cell_type": "code",
   "execution_count": 17,
   "metadata": {},
   "outputs": [
    {
     "name": "stdout",
     "output_type": "stream",
     "text": [
      "0000000\n",
      "100\n",
      "  100\n",
      "  100\n",
      "  100  100\n",
      "  100  100\n",
      "Mo Tu We Th Fr Sa \n",
      " 1  2  3  4  5  6  7 \n",
      " 8  9 10 11 12 13 14 \n",
      "15 16 17 18 19 20 21 \n",
      "22 23 24 25 26 27 28 \n",
      "29 30 31 "
     ]
    }
   ],
   "source": [
    "a = 100\n",
    "print(\"0000000\")\n",
    "print(\"%d\" % a)\n",
    "print(\"%5d\" % a)\n",
    "print(f'{a:5}')\n",
    "print(\"%5d%5d\" % (a,a))\n",
    "print(f'{a:5}{a:5}')\n",
    "\n",
    "calender = {\n",
    "    1:31, 2:28, 3:31, 4:30, 5:30, 6:30\n",
    "    7:30, 8:30, 9:30, 10:30, 11:30, 12:31\n",
    "}\n",
    "\n",
    "weeks = ['Mo', 'Tu', 'We', 'Th', 'Fr','Sa']\n",
    "for day in weeks:\n",
    "    print(f'{day:2}', end = ' ')\n",
    "print()\n",
    "    \n",
    "count = 0\n",
    "for i in range(1,32):\n",
    "    print(f'{i:2}', end = ' ')\n",
    "    count += 1\n",
    "    if count == 7:\n",
    "          print()\n",
    "          count = 0"
   ]
  },
  {
   "cell_type": "code",
   "execution_count": 21,
   "metadata": {},
   "outputs": [
    {
     "name": "stdout",
     "output_type": "stream",
     "text": [
      "         1 월\n",
      "Mo Tu We Th Fr Sa Su \n",
      " 1  2  3  4  5  6  7 \n",
      " 8  9 10 11 12 13 14 \n",
      "15 16 17 18 19 20 21 \n",
      "22 23 24 25 26 27 28 \n",
      "29 30 31          2 월\n",
      "Mo Tu We Th Fr Sa Su \n",
      " 1  2  3  4  5  6  7 \n",
      " 8  9 10 11 12 13 14 \n",
      "15 16 17 18 19 20 21 \n",
      "22 23 24 25 26 27 28 \n",
      "         3 월\n",
      "Mo Tu We Th Fr Sa Su \n",
      " 1  2  3  4  5  6  7 \n",
      " 8  9 10 11 12 13 14 \n",
      "15 16 17 18 19 20 21 \n",
      "22 23 24 25 26 27 28 \n",
      "29 30 31          4 월\n",
      "Mo Tu We Th Fr Sa Su \n",
      " 1  2  3  4  5  6  7 \n",
      " 8  9 10 11 12 13 14 \n",
      "15 16 17 18 19 20 21 \n",
      "22 23 24 25 26 27 28 \n",
      "29 30          5 월\n",
      "Mo Tu We Th Fr Sa Su \n",
      " 1  2  3  4  5  6  7 \n",
      " 8  9 10 11 12 13 14 \n",
      "15 16 17 18 19 20 21 \n",
      "22 23 24 25 26 27 28 \n",
      "29 30          6 월\n",
      "Mo Tu We Th Fr Sa Su \n",
      " 1  2  3  4  5  6  7 \n",
      " 8  9 10 11 12 13 14 \n",
      "15 16 17 18 19 20 21 \n",
      "22 23 24 25 26 27 28 \n",
      "29 30          7 월\n",
      "Mo Tu We Th Fr Sa Su \n",
      " 1  2  3  4  5  6  7 \n",
      " 8  9 10 11 12 13 14 \n",
      "15 16 17 18 19 20 21 \n",
      "22 23 24 25 26 27 28 \n",
      "29 30          8 월\n",
      "Mo Tu We Th Fr Sa Su \n",
      " 1  2  3  4  5  6  7 \n",
      " 8  9 10 11 12 13 14 \n",
      "15 16 17 18 19 20 21 \n",
      "22 23 24 25 26 27 28 \n",
      "29 30          9 월\n",
      "Mo Tu We Th Fr Sa Su \n",
      " 1  2  3  4  5  6  7 \n",
      " 8  9 10 11 12 13 14 \n",
      "15 16 17 18 19 20 21 \n",
      "22 23 24 25 26 27 28 \n",
      "29 30         10 월\n",
      "Mo Tu We Th Fr Sa Su \n",
      " 1  2  3  4  5  6  7 \n",
      " 8  9 10 11 12 13 14 \n",
      "15 16 17 18 19 20 21 \n",
      "22 23 24 25 26 27 28 \n",
      "29 30         11 월\n",
      "Mo Tu We Th Fr Sa Su \n",
      " 1  2  3  4  5  6  7 \n",
      " 8  9 10 11 12 13 14 \n",
      "15 16 17 18 19 20 21 \n",
      "22 23 24 25 26 27 28 \n",
      "29 30         12 월\n",
      "Mo Tu We Th Fr Sa Su \n",
      " 1  2  3  4  5  6  7 \n",
      " 8  9 10 11 12 13 14 \n",
      "15 16 17 18 19 20 21 \n",
      "22 23 24 25 26 27 28 \n",
      "29 30 31 "
     ]
    }
   ],
   "source": [
    "calender = {\n",
    "    1:31, 2:28, 3:31, 4:30, 5:30, 6:30,\n",
    "    7:30, 8:30, 9:30, 10:30, 11:30, 12:31\n",
    "}\n",
    "\n",
    "weeks = ['Mo', 'Tu', 'We', 'Th', 'Fr','Sa', 'Su']\n",
    "\n",
    "for month, count_day in calender.items():\n",
    "    count = 0\n",
    "    print(f'{month:10}','월')\n",
    "    for day in weeks:\n",
    "        print(f'{day:2}', end = ' ')\n",
    "    print()\n",
    "    \n",
    "    for i in range(1, count_day + 1):\n",
    "        print(f'{i:2}', end = ' ')\n",
    "        count += 1\n",
    "        if count == 7:\n",
    "            print()\n",
    "            count = 0"
   ]
  },
  {
   "cell_type": "code",
   "execution_count": 25,
   "metadata": {},
   "outputs": [
    {
     "name": "stdout",
     "output_type": "stream",
     "text": [
      "         1 월\n",
      "Mo Tu We Th Fr Sa Su \n",
      "         2 월\n",
      "Mo Tu We Th Fr Sa Su \n",
      "         3 월\n",
      "Mo Tu We Th Fr Sa Su \n",
      "         4 월\n",
      "Mo Tu We Th Fr Sa Su \n",
      "         5 월\n",
      "Mo Tu We Th Fr Sa Su \n",
      "         6 월\n",
      "Mo Tu We Th Fr Sa Su \n",
      "         7 월\n",
      "Mo Tu We Th Fr Sa Su \n",
      "         8 월\n",
      "Mo Tu We Th Fr Sa Su \n",
      "         9 월\n",
      "Mo Tu We Th Fr Sa Su \n",
      "        10 월\n",
      "Mo Tu We Th Fr Sa Su \n",
      "        11 월\n",
      "Mo Tu We Th Fr Sa Su \n",
      "        12 월\n",
      "Mo Tu We Th Fr Sa Su \n"
     ]
    }
   ],
   "source": [
    "calender = {\n",
    "    1:31, 2:28, 3:31, 4:30, 5:30, 6:30,\n",
    "    7:30, 8:30, 9:30, 10:30, 11:30, 12:31\n",
    "}\n",
    "\n",
    "weeks = ['Mo', 'Tu', 'We', 'Th', 'Fr','Sa', 'Su']\n",
    "\n",
    "for month, count_day in calender.items():\n",
    "    count = 0\n",
    "    print(f'{month:10}','월')\n",
    "    for day in weeks:\n",
    "        print(f'{day:2}', end = ' ')\n",
    "    print()"
   ]
  }
 ],
 "metadata": {
  "kernelspec": {
   "display_name": "Python 3",
   "language": "python",
   "name": "python3"
  },
  "language_info": {
   "codemirror_mode": {
    "name": "ipython",
    "version": 3
   },
   "file_extension": ".py",
   "mimetype": "text/x-python",
   "name": "python",
   "nbconvert_exporter": "python",
   "pygments_lexer": "ipython3",
   "version": "3.6.7"
  },
  "toc": {
   "base_numbering": 1,
   "nav_menu": {},
   "number_sections": true,
   "sideBar": true,
   "skip_h1_title": false,
   "title_cell": "Table of Contents",
   "title_sidebar": "Contents",
   "toc_cell": false,
   "toc_position": {},
   "toc_section_display": true,
   "toc_window_display": false
  }
 },
 "nbformat": 4,
 "nbformat_minor": 2
}
