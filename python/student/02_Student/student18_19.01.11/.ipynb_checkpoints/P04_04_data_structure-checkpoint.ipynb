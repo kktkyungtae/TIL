{
 "cells": [
  {
   "cell_type": "markdown",
   "metadata": {},
   "source": [
    "# 불쌍한 달팽이 - 고전 수학문제\n",
    "\n",
    ">달팽이는 낮 시간 동안에 기둥을 올라갑니다. 하지만 밤에는 잠을 자면서 어느 정도의 거리만큼미끄러집니다. (낮 시간 동안 올라간 거리보다는 적게 미끄러집니다) 달팽이가 기둥의 꼭대기에 도달하는 날까지 걸리는 시간을 계산하면 됩니다.\n",
    "\n",
    "> 당신의 함수에 들어가야 하는 3개의 인자는 다음과 같습니다.\n",
    "- 기둥의 높이(미터)\n",
    "- 낮 시간 동안 달팽이가 올라가는 거리(미터)\n",
    "- 달팽이가 야간에 잠을 자는 동안 미끄러지는 거리(미터)\n",
    "\n",
    "```\n",
    "snail(100, 5, 2)\n",
    "33\n",
    "```"
   ]
  },
  {
   "cell_type": "code",
   "execution_count": null,
   "metadata": {},
   "outputs": [],
   "source": [
    "# 여기에 코드를 작성하세요"
   ]
  },
  {
   "cell_type": "code",
   "execution_count": 1,
   "metadata": {},
   "outputs": [
    {
     "name": "stdout",
     "output_type": "stream",
     "text": [
      "33\n"
     ]
    }
   ],
   "source": [
    "def snail(height, day, night):\n",
    "    count = 0\n",
    "    while True:\n",
    "        count += 1\n",
    "        height -= day\n",
    "        if height <= 0:\n",
    "            return count\n",
    "        height += night\n",
    "    return count\n",
    "\n",
    "print(snail(100, 5, 2))"
   ]
  },
  {
   "cell_type": "markdown",
   "metadata": {},
   "source": [
    "# 무엇이 중복일까\n",
    "\n",
    "> 다음 리스트에서 중복되는 요소만 뽑아서 새로운 리스트에 옮기시오. \n",
    "\n",
    "```\n",
    "입력)\n",
    "duplicated(['a', 'b', 'c', 'b', 'd', 'm', 'n', 'n', 'b'])\n",
    "\n",
    "출력)\n",
    "['b', 'n']\n",
    "```"
   ]
  },
  {
   "cell_type": "code",
   "execution_count": 3,
   "metadata": {
    "scrolled": false
   },
   "outputs": [
    {
     "name": "stdout",
     "output_type": "stream",
     "text": [
      "['b', 'n']\n"
     ]
    }
   ],
   "source": [
    "# 여기에 코드를 작성하시오.\n",
    "\n",
    "def duplicated(a):\n",
    "    duplicates = []\n",
    "    for value in a:\n",
    "        if a.count(value) > 1 and value not in duplicates: #갯수가 1보다 큰애들\n",
    "            duplicates.append(value)\n",
    "    return duplicates\n",
    "            \n",
    "print(duplicated(['a', 'b', 'c', 'b', 'd', 'm', 'n', 'n', 'b']))"
   ]
  },
  {
   "cell_type": "code",
   "execution_count": 5,
   "metadata": {},
   "outputs": [
    {
     "name": "stdout",
     "output_type": "stream",
     "text": [
      "['b', 'n']\n"
     ]
    }
   ],
   "source": [
    "# \n",
    "def duplicated2(a):\n",
    "    return list({c for c in a if a.count(c) > 1})\n",
    "\n",
    "print(duplicated(['a', 'b', 'c', 'b', 'd', 'm', 'n', 'n', 'b']))"
   ]
  },
  {
   "cell_type": "code",
   "execution_count": null,
   "metadata": {},
   "outputs": [],
   "source": [
    "duplicated(['a', 'b', 'c', 'b', 'd', 'm', 'n', 'n', 'b'])"
   ]
  },
  {
   "cell_type": "markdown",
   "metadata": {},
   "source": [
    "# 알파벳만 남기고 뒤집기\n",
    "\n",
    ">문자열이 주어지면, 해당 문자열 중에서 알파벳이 아닌 문자는 전부 빼고 거꾸로 뒤집어 반환하는 함수를 작성하세요.\n",
    "\n",
    "```\n",
    "예시) \n",
    "reverse_letter(\"krishan\")\n",
    "\"nahsirk\"\n",
    "\n",
    "reverse_letter(\"ultr53o?n\")\n",
    "\"nortlu\"\n",
    "```"
   ]
  },
  {
   "cell_type": "code",
   "execution_count": 15,
   "metadata": {},
   "outputs": [
    {
     "name": "stdout",
     "output_type": "stream",
     "text": [
      "['n', 'a', '가', 'h', 's', 'i', 'r', 'k']\n",
      "['n', 'o', 'r', 't', 'l', 'u']\n",
      "na321가hsirk\n",
      "n?o35rtlu\n"
     ]
    }
   ],
   "source": [
    "# 여기에 코드를 작성하세요\n",
    "# A1\n",
    "\n",
    "def reverse_letter(s):\n",
    "    a = []\n",
    "    for c in s:\n",
    "        if c.isalpha():\n",
    "            a.append(c)\n",
    "    return a[::-1]\n",
    "\n",
    "print(reverse_letter(\"krish가123an\"))\n",
    "print(reverse_letter(\"ultr53o?n\"))\n",
    "\n",
    "def r_l(a):\n",
    "    c = []\n",
    "    for k in a:\n",
    "        if k.isalpha():\n",
    "            c.append(k)\n",
    "    return a[::-1]\n",
    "\n",
    "print(r_l(\"krish가123an\"))\n",
    "print(r_l(\"ultr53o?n\"))"
   ]
  },
  {
   "cell_type": "code",
   "execution_count": 12,
   "metadata": {},
   "outputs": [
    {
     "name": "stdout",
     "output_type": "stream",
     "text": [
      "nahsirk\n",
      "no가나가rtlu\n"
     ]
    }
   ],
   "source": [
    "def reverse_letter2(s):\n",
    "    a = [c for c in s if c.isalpha()]\n",
    "    return \"\".join(a[::-1])\n",
    "\n",
    "print(reverse_letter2(\"kris111han\"))\n",
    "print(reverse_letter2(\"ultr5가나가3o?n\"))"
   ]
  },
  {
   "cell_type": "code",
   "execution_count": null,
   "metadata": {},
   "outputs": [],
   "source": [
    "print(reverse_letter(\"krishan\"))\n",
    "print(reverse_letter(\"ultr53o?n\"))"
   ]
  },
  {
   "cell_type": "markdown",
   "metadata": {},
   "source": [
    "# 편-안한 단어\n",
    "\n",
    ">(QWERTY 키보드를 사용하여 타이핑을 한다고 가정할 때) '편안한 단어'는 타이핑 할 때 손을\n",
    "번갈아 칠 수 있는 단어를 말합니다.단어를 인자로 받아 그것이 '편안한 단어'인지 여부를 True/False로 반환하는 함수를 만드세요.(모든 단어는 a ~ z까지 오름차순으로 구성된 문자열입니다.)\n",
    "\n",
    ">문자 목록\n",
    "- 왼손: q, w, e, r, t, a, s, s, d, f, g, z, x, c, v, b\n",
    "- 오른손: y, u, i, o, p, h, j, k, l, n, m"
   ]
  },
  {
   "cell_type": "code",
   "execution_count": 23,
   "metadata": {},
   "outputs": [
    {
     "name": "stdout",
     "output_type": "stream",
     "text": [
      "False\n",
      "False\n"
     ]
    }
   ],
   "source": [
    "# 여기에 코드를 작성하세요.\n",
    "def comfortable_word(word):\n",
    "    left = 'qwertasdfgzxcv'\n",
    "    right = 'yuiopjklnm'\n",
    "    \n",
    "    l = True if word[0] in left else False #왼손을 true 라 가정하고 작성\n",
    "    \n",
    "    for c in word[1:]:\n",
    "        if c in left and l:\n",
    "            return False\n",
    "        if c in right and not l:\n",
    "            return False\n",
    "        l = not l\n",
    "    return True\n",
    "            \n",
    "print(comfortable_word(\"qwer\"))\n",
    "print(comfortable_word(\"apple\"))"
   ]
  },
  {
   "cell_type": "code",
   "execution_count": null,
   "metadata": {},
   "outputs": [],
   "source": [
    "print(comfortable_word(\"qywu\"))\n",
    "print(comfortable_word(\"apple\"))"
   ]
  },
  {
   "cell_type": "markdown",
   "metadata": {},
   "source": [
    "# 숫자패턴\n",
    "\n",
    ">원하는 행까지 아래의 패턴을 생성하는 함수를 작성하세요. 만약 인자가 0이나 음의 정수인 경우 \"\" 즉, 빈 문자열로 반환하세요.짝수가 인수로 전달되면 패턴은 통과된 짝수보다 작은 최대 홀수까지 계속되어야 합니다.\n",
    "\n",
    "```\n",
    "예시 \n",
    "pattern(9):\n",
    "\n",
    "1\n",
    "333\n",
    "55555\n",
    "7777777\n",
    "999999999\n",
    "\n",
    "pattern(6)\n",
    "1\n",
    "333\n",
    "55555\n",
    "\n",
    "유의\n",
    "패턴에 공백은 없습니다.\n",
    "```"
   ]
  },
  {
   "cell_type": "code",
   "execution_count": 25,
   "metadata": {},
   "outputs": [
    {
     "name": "stdout",
     "output_type": "stream",
     "text": [
      "1\n",
      "333\n",
      "55555\n",
      "7777777\n",
      "999999999\n",
      "1\n",
      "333\n",
      "55555\n"
     ]
    }
   ],
   "source": [
    "# 여기에 코드를 작성하세요\n",
    "\n",
    "def pattern(n):\n",
    "    string = \"\"\n",
    "    a = n # 입력받은 것이 짝수인거랑 홀수인거랑 나눠서\n",
    "    if a % 2 == 0:\n",
    "        a -= 1\n",
    "        \n",
    "    for x in range(1, a + 1): #1층부터 하는데\n",
    "        if x % 2 != 0:\n",
    "            string += str(x) * x # 해당 값을 해당 층수만큼 출력해주면되\n",
    "            \n",
    "            if x != a:\n",
    "                string += \"\\n\"\n",
    "    return string\n",
    "\n",
    "print(pattern(9))\n",
    "print(pattern(6))"
   ]
  },
  {
   "cell_type": "code",
   "execution_count": null,
   "metadata": {},
   "outputs": [],
   "source": [
    "# 해당 코드를 통해 올바른 결과가 나오는지 확인하세요.\n",
    "print(pattern(9))\n",
    "print(pattern(6))"
   ]
  },
  {
   "cell_type": "code",
   "execution_count": 29,
   "metadata": {},
   "outputs": [
    {
     "name": "stdout",
     "output_type": "stream",
     "text": [
      "1\n",
      "333\n",
      "55555\n",
      "7777777\n",
      "999999999\n",
      "1111111111111111111111\n",
      "1\n",
      "333\n",
      "55555\n",
      "7777777\n"
     ]
    }
   ],
   "source": [
    "def pattern2(n):\n",
    "    r = [str(x) * x for x in range(1, n+1) if x % 2]\n",
    "    return \"\\n\".join(r)\n",
    "\n",
    "print(pattern(11))\n",
    "print(pattern(7))"
   ]
  },
  {
   "cell_type": "markdown",
   "metadata": {},
   "source": [
    "# 숫자가 좋아\n",
    "\n",
    "> 스트링과 함께 섞여있는 문자열들 속에서 정수만 뽑아내 합을 반환하는 함수 `pick_and_sum`를 작성하세요.\n",
    "\n",
    "예시)\n",
    "```python\n",
    "pick_and_sum(\"The30quick20brown10f0x1203jumps914ov3r1349the102l4zy dog\") #=> 3635\n",
    "```"
   ]
  },
  {
   "cell_type": "code",
   "execution_count": 36,
   "metadata": {},
   "outputs": [
    {
     "name": "stdout",
     "output_type": "stream",
     "text": [
      "3635\n",
      "3635\n",
      "3635\n"
     ]
    }
   ],
   "source": [
    "# 1 여기에 코드를 작성하세요.\n",
    "\n",
    "def pick_and_sum(s):\n",
    "    for x in s:\n",
    "        if not x.isdecimal():\n",
    "            s = s.replace(x,' ')\n",
    "    return sum(map(int,s.split()))\n",
    "        \n",
    "print(pick_and_sum(\"The30quick20brown10f0x1203jumps914ov3r1349the102l4zy dog\"))\n",
    "\n",
    "# 2\n",
    "\n",
    "def pick_and_sum2(s):\n",
    "    return sum(map(int, ''.join(c if c.isdigit() else ' ' for c in s).split()))\n",
    "\n",
    "print(pick_and_sum2(\"The30quick20brown10f0x1203jumps914ov3r1349the102l4zy dog\"))\n",
    "\n",
    "# 3\n",
    "\n",
    "import re\n",
    "def pick_and_sum3(s):\n",
    "    return sum(int(x) for x in re.findall(r'(\\d+)',s)) #(\\d+) 데시몰로 된것을 다 찾아주는 findall\n",
    "print(pick_and_sum3(\"The30quick20brown10f0x1203jumps914ov3r1349the102l4zy dog\"))"
   ]
  },
  {
   "cell_type": "code",
   "execution_count": null,
   "metadata": {},
   "outputs": [],
   "source": [
    "# 해당 코드를 통해 올바른 결과가 나오는지 확인하세요.\n",
    "print(pick_and_sum(\"The30quick20brown10f0x1203jumps914ov3r1349the102l4zy dog\"))"
   ]
  }
 ],
 "metadata": {
  "kernelspec": {
   "display_name": "Python 3",
   "language": "python",
   "name": "python3"
  },
  "language_info": {
   "codemirror_mode": {
    "name": "ipython",
    "version": 3
   },
   "file_extension": ".py",
   "mimetype": "text/x-python",
   "name": "python",
   "nbconvert_exporter": "python",
   "pygments_lexer": "ipython3",
   "version": "3.6.7"
  },
  "latex_envs": {
   "LaTeX_envs_menu_present": true,
   "autoclose": false,
   "autocomplete": true,
   "bibliofile": "biblio.bib",
   "cite_by": "apalike",
   "current_citInitial": 1,
   "eqLabelWithNumbers": true,
   "eqNumInitial": 1,
   "hotkeys": {
    "equation": "Ctrl-E",
    "itemize": "Ctrl-I"
   },
   "labels_anchors": false,
   "latex_user_defs": false,
   "report_style_numbering": false,
   "user_envs_cfg": false
  },
  "toc": {
   "base_numbering": 1,
   "nav_menu": {},
   "number_sections": true,
   "sideBar": true,
   "skip_h1_title": false,
   "title_cell": "Table of Contents",
   "title_sidebar": "Contents",
   "toc_cell": false,
   "toc_position": {},
   "toc_section_display": true,
   "toc_window_display": false
  }
 },
 "nbformat": 4,
 "nbformat_minor": 2
}
