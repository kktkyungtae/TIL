{
 "cells": [
  {
   "cell_type": "markdown",
   "metadata": {},
   "source": [
    "### 문제1\n",
    "\n",
    "> 색이 칠해진 삼각형은 각각 빨강, 녹색 또는 파랑 색의 행에서 만들어집니다. 마지막 행보다 하나 적은 색을 각각 포함하는 연속 행은 이전 행에서 두 개의 색을 \n",
    "고려하여 생성됩니다. 이 색상이 동일하면 동일한 색상이 새 행에 사용됩니다. 색상이 다른 경우 누락 된 색상이 새 행에 사용됩니다. 단 하나의 색상으로 최종 행이 생성 될 때까지 계속됩니다."
   ]
  },
  {
   "cell_type": "code",
   "execution_count": null,
   "metadata": {},
   "outputs": [],
   "source": [
    "''''\n",
    "Colour here:        G G        B G        R G        B R\n",
    "Becomes colour:    G           R           B            G\n",
    "   \n",
    "처리 과정 \n",
    "R R G B R G B B\n",
    " R B R G B R B\n",
    "  G G B R G G\n",
    "   G R G B G\n",
    "    B B R R\n",
    "     B G R\n",
    "      R B\n",
    "       G\n",
    "'''"
   ]
  },
  {
   "cell_type": "markdown",
   "metadata": {},
   "source": [
    "> 삼각형의 첫 행을 문자열로 지정하고 마지막 행을 문자열로 표시하는 최종 색을 반환합니다. 위 예제의 경우 RRGBRGBB를 반환해야합니다. 입력 문자열에는 대문자 R, G, B 만 포함되며 적어도 하나의 문자가있어 유효하지 않은 입력을  테스트 할 필요가 없습니다. 한 색상 만 입력으로 받으면 해당 색상을 반환하십시오.\n",
    "\n",
    "> 출력 결과\n",
    "- print(triangle('RRR')) => R\n",
    "- print(triangle('RG')) => B \n",
    "- print(triangle('RRRGGGBBBBBB')) => G\n",
    "- print(triangle('RRGBRGBB')) => G\n",
    "\n",
    "\n",
    "\n",
    "> Adapted from the 2017 British Informatics Olympiad"
   ]
  },
  {
   "cell_type": "code",
   "execution_count": 20,
   "metadata": {},
   "outputs": [
    {
     "name": "stdout",
     "output_type": "stream",
     "text": [
      "0\n"
     ]
    }
   ],
   "source": [
    "def triangle1(a):\n",
    "    x = len(str(a))\n",
    "    if a[x-1] == a[x-2]:\n",
    "        return a\n",
    "    else:\n",
    "        return 0\n",
    "        \n",
    "\n",
    "print(triangle('RaR'))"
   ]
  },
  {
   "cell_type": "code",
   "execution_count": 31,
   "metadata": {},
   "outputs": [
    {
     "name": "stdout",
     "output_type": "stream",
     "text": [
      "R\n",
      "B\n",
      "G\n",
      "G\n",
      "==============================\n",
      "R\n",
      "B\n",
      "G\n",
      "G\n"
     ]
    }
   ],
   "source": [
    "# 1. 강사님 Code\n",
    "\n",
    "def triangle(r):\n",
    "    dict = {'GG':'G','BB':'B','RR':'R','GB':'R','GR':'B','BR':'G','BG':'R','RG':'B','RB':'G','RG':'B'} #모든 케이스 dic\n",
    "    if len(r) > 2:\n",
    "        s = ''\n",
    "        for i in range(len(r)-1):\n",
    "            s = s + dict[r[i: i+2]] # 2개씩 짤라봐\n",
    "        r = s\n",
    "        return triangle(r)\n",
    "    elif len(r) > 1:\n",
    "        return dict[r]\n",
    "    else:\n",
    "        return r\n",
    "\n",
    "print(triangle('RRR'))\n",
    "print(triangle('RG')) \n",
    "print(triangle('RRRGGGBBBBBB'))\n",
    "print(triangle('RRGBRGBB'))\n",
    "\n",
    "print(\"=\"*30)\n",
    "\n",
    "# 2. Code 차집합!\n",
    "color_set = set(\"RGB\")\n",
    "\n",
    "def triangle2(r): # 차집합 쓰려면 어디서 뺼지 클라셋 정해야됨\n",
    "    while len(r) > 1:\n",
    "        r = ''.join( a if a == b else (color_set - {a,b}).pop() for a,b in zip(r, r[1:])) # else 면 a,b 뻬고 나머지가 출력\n",
    "    return r\n",
    "\n",
    "print(triangle2('RRR'))\n",
    "print(triangle2('RG')) \n",
    "print(triangle2('RRRGGGBBBBBB'))\n",
    "print(triangle2('RRGBRGBB'))"
   ]
  }
 ],
 "metadata": {
  "kernelspec": {
   "display_name": "Python 3",
   "language": "python",
   "name": "python3"
  },
  "language_info": {
   "codemirror_mode": {
    "name": "ipython",
    "version": 3
   },
   "file_extension": ".py",
   "mimetype": "text/x-python",
   "name": "python",
   "nbconvert_exporter": "python",
   "pygments_lexer": "ipython3",
   "version": "3.6.7"
  }
 },
 "nbformat": 4,
 "nbformat_minor": 2
}
