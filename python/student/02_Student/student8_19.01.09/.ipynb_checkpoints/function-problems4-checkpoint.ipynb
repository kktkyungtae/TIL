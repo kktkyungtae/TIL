{
 "cells": [
  {
   "cell_type": "markdown",
   "metadata": {},
   "source": [
    "## Function-Problems4"
   ]
  },
  {
   "cell_type": "markdown",
   "metadata": {},
   "source": [
    "### 문제1\n",
    "\n",
    ">OOO 모바일은 개인정보 보호를 위해 고지서를 보낼 때 고객들의 전화번호의 일부를 가립니다. 전화번호가 문자열 phone_number로 주어졌을 때, 전화번호의 뒷 4자리를 제외한 나머지 숫자를 전부 *으로 가린 문자열을 리턴하는 함수, solution을 완성해주세요."
   ]
  },
  {
   "cell_type": "code",
   "execution_count": 2,
   "metadata": {},
   "outputs": [
    {
     "name": "stdout",
     "output_type": "stream",
     "text": [
      "*******8762\n"
     ]
    }
   ],
   "source": [
    "# 여기에 코드를 작성해주세요\n",
    "def solution(phone_number):\n",
    "    return \"*\" * (len(phone_number) - 4) + phone_number[-4:]\n",
    "\n",
    "print(solution(\"01098288762\"))"
   ]
  },
  {
   "cell_type": "markdown",
   "metadata": {},
   "source": [
    "### 문제2\n",
    "\n",
    ">문자열이 주어지면, 각 문자(대소문자 구분)를 한번씩 반복하여 문자열을 반환하는 함수를 작성하세요.\n",
    "\n",
    ">예시\n",
    "- double_char(\"String\") ==> \"SSttrriinngg\"\n",
    "- double_char(\"Hello World\") ==> \"HHeelllloo  WWoorrlldd\"\n",
    "- double_char(\"1234!_ \") ==> \"11223344!!__  \""
   ]
  },
  {
   "cell_type": "code",
   "execution_count": 10,
   "metadata": {},
   "outputs": [
    {
     "name": "stdout",
     "output_type": "stream",
     "text": [
      "ppyytthhoonn\n",
      "ppyytthhoonn\n"
     ]
    }
   ],
   "source": [
    " # 여기에 코드를 작성하세요.\n",
    "\n",
    "# 1.\n",
    "    \n",
    "def double_char(word):\n",
    "    res = '' #결과 값을 반환할 스트링을 선언\n",
    "    for s in word:\n",
    "        res += s * 2\n",
    "    return res\n",
    "    \n",
    "print(double_char(\"python\"))\n",
    "\n",
    "\n",
    "# 2.\n",
    "\n",
    "def double_char2(word):\n",
    "    return ''.join(s * 2 for s in word)\n",
    "\n",
    "print(double_char2(\"python\"))"
   ]
  },
  {
   "cell_type": "markdown",
   "metadata": {},
   "source": [
    "### 문제3\n",
    "\n",
    ">크기를 가지고 1과 0을 번갈아 나타내는 stringy 함수를 작성하고자 합니다. \n",
    "\n",
    "> 조건 및 출력예시\n",
    "- 문자열은 반드시 1부터 시작해야 합니다. \n",
    "- 스트링의 크기는 항상 양수이며 정수만 사용합니다.\n",
    "- 스트링의 크기(size)가 6이면 '101010'을 반환합니다.\n",
    "- 스트링의 크기(size)가 4이면 '1010'을 반환합니다. \n",
    "- 스트링의 크기(size)가 12이면 '101010101010'을 반환합니다. "
   ]
  },
  {
   "cell_type": "code",
   "execution_count": 15,
   "metadata": {},
   "outputs": [
    {
     "name": "stdout",
     "output_type": "stream",
     "text": [
      "101010101\n",
      "101010101010101010101010101010\n",
      "101010101010101\n",
      "10101010101010101010101010101010\n"
     ]
    }
   ],
   "source": [
    "# 여기에 코드를 작성하세요\n",
    "\n",
    "# 1.\n",
    "\n",
    "def stringy(size):\n",
    "    return '10' * int((size / 2)) + '1' * (size % 2) \n",
    "    # 짝수면 여기만 출력             #짝수면 여기가 0이라 안나오니까 홀수만나와\n",
    "print(stringy(9))\n",
    "print(stringy(30))\n",
    "\n",
    "\n",
    "# 2.\n",
    "\n",
    "def stringy(size):\n",
    "    return ''.join([str(i % 2) for i in range(1, size +1)])\n",
    "\n",
    "print(stringy(15))\n",
    "print(stringy(32))"
   ]
  },
  {
   "cell_type": "markdown",
   "metadata": {},
   "source": [
    "### 문제4\n",
    "\n",
    "> 당신이 일하는 회사는 지불 시스템을 개발하는 계약을 맺었습니다. 당신의 임무는 금액(실수)을 달러와 센트의 문자열 서식으로 반환하는 함수를 개발하는 일입니다. 0이 누락 경우에 뒤에 0을 추가해야 합니다.\n",
    "\n",
    ">예시\n",
    "- 3 -> $3.00 \n"
   ]
  },
  {
   "cell_type": "code",
   "execution_count": 21,
   "metadata": {},
   "outputs": [
    {
     "name": "stdout",
     "output_type": "stream",
     "text": [
      "5.00\n",
      "7.00\n"
     ]
    }
   ],
   "source": [
    "#여기에 코드를 작성하세요.\n",
    "\n",
    "# 1.\n",
    "\n",
    "def format_money(amount):\n",
    "    return f'{amount:0.2f}'\n",
    "\n",
    "print(format_money(5))\n",
    "\n",
    "# 2.\n",
    "\n",
    "def format_money(amount):\n",
    "    return '{:.2f}'.format(amount)\n",
    "\n",
    "print(format_money(7))"
   ]
  },
  {
   "cell_type": "markdown",
   "metadata": {},
   "source": [
    "### 문제5\n",
    "\n",
    "> 1세기는 1년~100년까지, 2세기는 101년에서 200년까지를 포함합니다. 주어진 연도 값에서, 세기를 반환하는 함수를 작성하세요. "
   ]
  },
  {
   "cell_type": "code",
   "execution_count": 26,
   "metadata": {},
   "outputs": [
    {
     "name": "stdout",
     "output_type": "stream",
     "text": [
      "21\n",
      "1\n"
     ]
    }
   ],
   "source": [
    "# 여기에 코드를 작성하세요\n",
    "\n",
    "# 1\n",
    "\n",
    "def Century_from_year(year):\n",
    "    return (year + 99) // 100\n",
    "    return (year - 1) // 100 + 1\n",
    "\n",
    "print(Century_from_year(2019))\n",
    "\n",
    "# 2\n",
    "\n",
    "def Century_from_year(year):\n",
    "    return (year - 1) // 100 + 1\n",
    "\n",
    "print(Century_from_year(12))"
   ]
  }
 ],
 "metadata": {
  "kernelspec": {
   "display_name": "Python 3",
   "language": "python",
   "name": "python3"
  },
  "language_info": {
   "codemirror_mode": {
    "name": "ipython",
    "version": 3
   },
   "file_extension": ".py",
   "mimetype": "text/x-python",
   "name": "python",
   "nbconvert_exporter": "python",
   "pygments_lexer": "ipython3",
   "version": "3.6.7"
  }
 },
 "nbformat": 4,
 "nbformat_minor": 2
}
