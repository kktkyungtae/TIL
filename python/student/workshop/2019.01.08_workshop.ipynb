{
 "cells": [
  {
   "cell_type": "code",
   "execution_count": 6,
   "metadata": {},
   "outputs": [
    {
     "name": "stdout",
     "output_type": "stream",
     "text": [
      "단어입력: 1231\n",
      "False\n"
     ]
    }
   ],
   "source": [
    "def palindrome(word):\n",
    "    if(word == word[::-1]):\n",
    "        print(\"True\")\n",
    "    else:\n",
    "        print(\"False\")\n",
    "    \n",
    "word = input(\"단어입력: \")\n",
    "palindrome(word)"
   ]
  }
 ],
 "metadata": {
  "kernelspec": {
   "display_name": "Python 3",
   "language": "python",
   "name": "python3"
  },
  "language_info": {
   "codemirror_mode": {
    "name": "ipython",
    "version": 3
   },
   "file_extension": ".py",
   "mimetype": "text/x-python",
   "name": "python",
   "nbconvert_exporter": "python",
   "pygments_lexer": "ipython3",
   "version": "3.6.7"
  }
 },
 "nbformat": 4,
 "nbformat_minor": 2
}
